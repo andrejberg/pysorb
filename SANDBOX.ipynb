{
 "cells": [
  {
   "cell_type": "code",
   "execution_count": 1,
   "metadata": {
    "collapsed": true
   },
   "outputs": [],
   "source": [
    "from classes.QEout import QEout\n",
    "import numpy as np\n",
    "import math"
   ]
  },
  {
   "cell_type": "code",
   "execution_count": 2,
   "metadata": {
    "collapsed": false
   },
   "outputs": [],
   "source": [
    "out = QEout(\"testfiles/top.O1.Au50.d.0.0.phi.0.psi.90.out\", \"top.O1.Au50.d.0.0.phi.0.psi.90.out\")"
   ]
  },
  {
   "cell_type": "code",
   "execution_count": null,
   "metadata": {
    "collapsed": false
   },
   "outputs": [],
   "source": [
    "def water_mol_orientation(mol, z):\n",
    "    # mol is a 3x3 array of positions\n",
    "    b1 = mol[1] - mol[0] # bond 1\n",
    "    b2 = mol[2] - mol[0] # bond 2\n",
    "    d  = b1 + b2         # dipole vector\n",
    "    o1 = np.cross(b1,b2)\n",
    "    o2 = np.cross(b2,b1)\n",
    "    \n",
    "    z_mag  = np.linalg.norm(z)\n",
    "    d_mag  = np.linalg.norm(d)\n",
    "    o1_mag = np.linalg.norm(o1)\n",
    "    o2_mag = np.linalg.norm(o2)\n",
    "    \n",
    "    fi     = math.acos(np.dot(d,z)/(d_mag*z_mag))\n",
    "    theta1 = math.acos(np.dot(o1,z)/(o1_mag*z_mag))\n",
    "    theta2 = math.acos(np.dot(o2,z)/(o2_mag*z_mag))\n",
    "    theta  = min(theta1, theta2)\n",
    "    return math.degrees(fi),math.degrees(theta)"
   ]
  },
  {
   "cell_type": "code",
   "execution_count": 76,
   "metadata": {
    "collapsed": false
   },
   "outputs": [],
   "source": [
    "testfile = file(\"testfiles/top.O1.Au50.d.0.0.phi.0.psi.90.out\")"
   ]
  },
  {
   "cell_type": "code",
   "execution_count": 77,
   "metadata": {
    "collapsed": false
   },
   "outputs": [],
   "source": [
    "content = testfile.readlines()"
   ]
  },
  {
   "cell_type": "code",
   "execution_count": 80,
   "metadata": {
    "collapsed": false
   },
   "outputs": [],
   "source": [
    "def getatompositions(content):\n",
    "    if 'Begin final coordinates' in \"\".join(content):\n",
    "        start = \"Begin final coordinates\"\n",
    "        end = \"End final coordinates\"\n",
    "        output = []\n",
    "        parse = False\n",
    "        for line in content:\n",
    "            if start in line:\n",
    "                parse = True\n",
    "                continue\n",
    "            if end in line:\n",
    "                break\n",
    "            if parse and len(line.split()) == 4 or parse and len(line.split()) == 7:\n",
    "                output = output + [ line.split()[1:4] ]\n",
    "        output = [[float(i) for i in set] for set in output]\n",
    "        output = np.asarray(output)\n",
    "    else:\n",
    "        hit = 'tau('\n",
    "        output = [line.split()[6:9] for line in content if hit in line]\n",
    "        output = [[float(i) for i in set] for set in output]\n",
    "        output = np.asarray(output)#*self.getalat()*convert.bohr2ang(1)\n",
    "    return(output)"
   ]
  },
  {
   "cell_type": "code",
   "execution_count": 81,
   "metadata": {
    "collapsed": false
   },
   "outputs": [
    {
     "data": {
      "text/plain": [
       "array([[  5.63569134,   4.67704736,  10.4072807 ],\n",
       "       [  4.89555788,   4.06140882,  10.5666825 ],\n",
       "       [  6.42613044,   4.20452714,  10.73073758],\n",
       "       [  4.261117  ,   7.38047   ,   0.        ],\n",
       "       [  5.76504   ,   4.775598  ,   0.        ],\n",
       "       [  7.268964  ,   2.170727  ,   0.        ],\n",
       "       [  8.772887  ,  -0.434145  ,   0.        ],\n",
       "       [  1.25327   ,   7.38047   ,   0.        ],\n",
       "       [  2.757193  ,   4.775598  ,   0.        ],\n",
       "       [  4.261117  ,   2.170727  ,   0.        ],\n",
       "       [  5.76504   ,  -0.434145  ,   0.        ],\n",
       "       [ -1.754577  ,   7.38047   ,   0.        ],\n",
       "       [ -0.250654  ,   4.775598  ,   0.        ],\n",
       "       [  1.25327   ,   2.170727  ,   0.        ],\n",
       "       [  2.757193  ,  -0.434145  ,   0.        ],\n",
       "       [ -4.762424  ,   7.38047   ,   0.        ],\n",
       "       [ -3.2585    ,   4.775598  ,   0.        ],\n",
       "       [ -1.754577  ,   2.170727  ,   0.        ],\n",
       "       [ -0.250654  ,  -0.434145  ,   0.        ],\n",
       "       [  5.76504   ,   8.24876   ,   2.455896  ],\n",
       "       [  7.268964  ,   5.643889  ,   2.455896  ],\n",
       "       [  8.772887  ,   3.039017  ,   2.455896  ],\n",
       "       [ 10.27681   ,   0.434145  ,   2.455896  ],\n",
       "       [  2.757193  ,   8.24876   ,   2.455896  ],\n",
       "       [  4.261117  ,   5.643889  ,   2.455896  ],\n",
       "       [  5.76504   ,   3.039017  ,   2.455896  ],\n",
       "       [  7.268964  ,   0.434145  ,   2.455896  ],\n",
       "       [ -0.250654  ,   8.24876   ,   2.455896  ],\n",
       "       [  1.25327   ,   5.643889  ,   2.455896  ],\n",
       "       [  2.757193  ,   3.039017  ,   2.455896  ],\n",
       "       [  4.261117  ,   0.434145  ,   2.455896  ],\n",
       "       [ -3.2585    ,   8.24876   ,   2.455896  ],\n",
       "       [ -1.754577  ,   5.643889  ,   2.455896  ],\n",
       "       [ -0.250654  ,   3.039017  ,   2.455896  ],\n",
       "       [  1.25327   ,   0.434145  ,   2.455896  ],\n",
       "       [  4.26193609,   9.11874595,   4.8941818 ],\n",
       "       [  5.76616886,   6.51287068,   4.89443795],\n",
       "       [  7.27007799,   3.90773362,   4.89434407],\n",
       "       [  8.77414402,   1.30185156,   4.89423821],\n",
       "       [  1.25308184,   9.11831619,   4.89389775],\n",
       "       [  2.75731518,   6.51243971,   4.89414863],\n",
       "       [  4.26121978,   3.90730389,   4.8940584 ],\n",
       "       [  5.76529725,   1.30141876,   4.89395275],\n",
       "       [ -1.75500556,   9.1181571 ,   4.89387106],\n",
       "       [ -0.25077583,   6.51228037,   4.89412773],\n",
       "       [  1.25312989,   3.90714481,   4.89403231],\n",
       "       [  2.75720325,   1.3012607 ,   4.89392988],\n",
       "       [ -4.763819  ,   9.11778076,   4.8933747 ],\n",
       "       [ -3.25958541,   6.51190306,   4.89363147],\n",
       "       [ -1.75568171,   3.90676993,   4.89353678],\n",
       "       [ -0.25160747,   1.30088675,   4.89342992],\n",
       "       [  4.26184303,   7.38173577,   7.37742444],\n",
       "       [  5.76590394,   4.77597702,   7.37767275],\n",
       "       [  7.26982077,   2.17096165,   7.37754171],\n",
       "       [  8.77401847,  -0.43474448,   7.37697143],\n",
       "       [  1.2531798 ,   7.38143087,   7.37773821],\n",
       "       [  2.7572432 ,   4.77566941,   7.37800138],\n",
       "       [  4.26115735,   2.17065007,   7.37785652],\n",
       "       [  5.76535404,  -0.43505023,   7.37730046],\n",
       "       [ -1.75480022,   7.38133791,   7.37768712],\n",
       "       [ -0.25074436,   4.77557625,   7.377938  ],\n",
       "       [  1.25317462,   2.17056008,   7.37781105],\n",
       "       [  2.75736988,  -0.43514545,   7.37723793],\n",
       "       [ -4.76350768,   7.38100736,   7.37707405],\n",
       "       [ -3.25944157,   4.77524249,   7.3773361 ],\n",
       "       [ -1.75552895,   2.17022606,   7.37719253],\n",
       "       [ -0.25132769,  -0.43547237,   7.37664009]])"
      ]
     },
     "execution_count": 81,
     "metadata": {},
     "output_type": "execute_result"
    }
   ],
   "source": [
    "getatompositions(content)"
   ]
  },
  {
   "cell_type": "code",
   "execution_count": null,
   "metadata": {
    "collapsed": true
   },
   "outputs": [],
   "source": []
  }
 ],
 "metadata": {
  "kernelspec": {
   "display_name": "Python [Root]",
   "language": "python",
   "name": "Python [Root]"
  },
  "language_info": {
   "codemirror_mode": {
    "name": "ipython",
    "version": 2
   },
   "file_extension": ".py",
   "mimetype": "text/x-python",
   "name": "python",
   "nbconvert_exporter": "python",
   "pygments_lexer": "ipython2",
   "version": "2.7.12"
  }
 },
 "nbformat": 4,
 "nbformat_minor": 0
}

{
 "cells": [
  {
   "cell_type": "code",
   "execution_count": 1,
   "metadata": {
    "collapsed": true
   },
   "outputs": [],
   "source": [
    "from classes.QEout import QEout\n",
    "import numpy as np\n",
    "import math"
   ]
  },
  {
   "cell_type": "code",
   "execution_count": 2,
   "metadata": {
    "collapsed": false
   },
   "outputs": [],
   "source": [
    "out = QEout(\"testfiles/top.O1.Au50.d.0.0.phi.0.psi.90.out\", \"top.O1.Au50.d.0.0.phi.0.psi.90.out\")"
   ]
  },
  {
   "cell_type": "code",
   "execution_count": null,
   "metadata": {
    "collapsed": false
   },
   "outputs": [],
   "source": [
    "def water_mol_orientation(mol, z):\n",
    "    # mol is a 3x3 array of positions\n",
    "    b1 = mol[1] - mol[0] # bond 1\n",
    "    b2 = mol[2] - mol[0] # bond 2\n",
    "    d  = b1 + b2         # dipole vector\n",
    "    o1 = np.cross(b1,b2)\n",
    "    o2 = np.cross(b2,b1)\n",
    "    \n",
    "    z_mag  = np.linalg.norm(z)\n",
    "    d_mag  = np.linalg.norm(d)\n",
    "    o1_mag = np.linalg.norm(o1)\n",
    "    o2_mag = np.linalg.norm(o2)\n",
    "    \n",
    "    fi     = math.acos(np.dot(d,z)/(d_mag*z_mag))\n",
    "    theta1 = math.acos(np.dot(o1,z)/(o1_mag*z_mag))\n",
    "    theta2 = math.acos(np.dot(o2,z)/(o2_mag*z_mag))\n",
    "    theta  = min(theta1, theta2)\n",
    "    return math.degrees(fi),math.degrees(theta)"
   ]
  },
  {
   "cell_type": "code",
   "execution_count": 36,
   "metadata": {
    "collapsed": false
   },
   "outputs": [],
   "source": [
    "testfile = file(\"testfiles/top.O1.Au50.d.0.0.phi.0.psi.90.out\")"
   ]
  },
  {
   "cell_type": "code",
   "execution_count": 37,
   "metadata": {
    "collapsed": false
   },
   "outputs": [],
   "source": [
    "content = testfile.readlines()"
   ]
  },
  {
   "cell_type": "code",
   "execution_count": 66,
   "metadata": {
    "collapsed": false
   },
   "outputs": [],
   "source": [
    "def getatompositions(content):\n",
    "    if 'Begin final coordinates' in \"\".join(content):\n",
    "        start = \"Begin final coordinates\"\n",
    "        end = \"End final coordinates\"\n",
    "        output = []\n",
    "        parse = False\n",
    "        for line in content:\n",
    "            if start in line:\n",
    "                parse = True\n",
    "                continue\n",
    "            if end in line:\n",
    "                break\n",
    "            if parse and len(line.split()) == 4 or parse and len(line.split()) == 7:\n",
    "                output = output + [ line.split()[1:4] ]\n",
    "        #output = [[float(i) for i in set] for set in output]\n",
    "        #output = np.asarray(output)\n",
    "    else:\n",
    "        hit = 'tau('\n",
    "        output = [line.split()[6:9] for line in content if hit in line]\n",
    "        output = [[float(i) for i in set] for set in output]\n",
    "        output = np.asarray(output)*self.getalat()*convert.bohr2ang(1)\n",
    "    return(output)"
   ]
  },
  {
   "cell_type": "code",
   "execution_count": 67,
   "metadata": {
    "collapsed": false
   },
   "outputs": [
    {
     "data": {
      "text/plain": [
       "[['5.635691341', '4.677047365', '10.407280702'],\n",
       " ['4.895557879', '4.061408817', '10.566682505'],\n",
       " ['6.426130436', '4.204527143', '10.730737583']]"
      ]
     },
     "execution_count": 67,
     "metadata": {},
     "output_type": "execute_result"
    }
   ],
   "source": [
    "getatompositions(content)"
   ]
  },
  {
   "cell_type": "code",
   "execution_count": null,
   "metadata": {
    "collapsed": true
   },
   "outputs": [],
   "source": []
  }
 ],
 "metadata": {
  "kernelspec": {
   "display_name": "Python [Root]",
   "language": "python",
   "name": "Python [Root]"
  },
  "language_info": {
   "codemirror_mode": {
    "name": "ipython",
    "version": 2
   },
   "file_extension": ".py",
   "mimetype": "text/x-python",
   "name": "python",
   "nbconvert_exporter": "python",
   "pygments_lexer": "ipython2",
   "version": "2.7.12"
  }
 },
 "nbformat": 4,
 "nbformat_minor": 0
}
